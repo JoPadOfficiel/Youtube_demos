{
  "cells": [
    {
      "cell_type": "markdown",
      "metadata": {
        "id": "em_jujM2ZVSl"
      },
      "source": [
        "# OpenAI-Compatible Test:"
      ]
    },
    {
      "cell_type": "code",
      "execution_count": null,
      "metadata": {
        "id": "-MuFYD4TDIBD"
      },
      "outputs": [],
      "source": [
        "from IPython.display import HTML, display\n",
        "\n",
        "def set_css():\n",
        "  display(HTML('''\n",
        "  <style>\n",
        "    pre {\n",
        "        white-space: pre-wrap;\n",
        "    }\n",
        "  </style>\n",
        "  '''))\n",
        "get_ipython().events.register('pre_run_cell', set_css)"
      ]
    },
    {
      "cell_type": "code",
      "execution_count": null,
      "metadata": {
        "colab": {
          "base_uri": "https://localhost:8080/"
        },
        "id": "2rjlEd8IUYB8",
        "outputId": "78c3c9aa-84e3-4a8f-d64f-47c60f37ea8f"
      },
      "outputs": [],
      "source": [
        "!pip install openai"
      ]
    },
    {
      "cell_type": "code",
      "execution_count": null,
      "metadata": {
        "id": "18FfCz8UTbxA"
      },
      "outputs": [],
      "source": [
        "from openai import OpenAI\n",
        "\n",
        "\n",
        "# gets API Key from environment variable OPENAI_API_KEY\n",
        "client = OpenAI(\n",
        "  base_url=\"https://openrouter.ai/api/v1\",\n",
        "  api_key=\"sk-or-v1-...\",\n",
        ")\n"
      ]
    },
    {
      "cell_type": "code",
      "execution_count": null,
      "metadata": {
        "colab": {
          "base_uri": "https://localhost:8080/"
        },
        "id": "Yw7vEfT4Y9wD",
        "outputId": "c9fb04b5-4c2c-4b64-bdad-30436547c33c"
      },
      "outputs": [
        {
          "name": "stdout",
          "output_type": "stream",
          "text": [
            "Discovering Bohol Island: A Comprehensive Guide to Transportation, Meals, Hotels, and Activities\n",
            "\n",
            "Bohol Island is a hidden gem in the Philippines that is often overlooked by tourists. Located in the central Visayas region, this island is home to stunning natural wonders, delicious local cuisine, and unique cultural experiences. In this blog post, we will explore everything you need to know about transportation, meals, hotels, and activities in Bohol Island.\n",
            "\n",
            "Transportation:\n",
            "\n",
            "Getting to Bohol Island is relatively easy, with several flights and ferries available from Manila and Cebu. The fastest and most convenient way to get there is by taking a direct flight from Manila to Tagbilaran City, Bohol's capital. The flight takes around an hour and a half, and you can book your ticket with any major airline.\n",
            "\n",
            "If you prefer to take a ferry, you can travel from Cebu City to Tagbilaran City. The ferry ride takes around 2 hours and 30 minutes, and you can book your ticket with any ferry company operating in the area.\n",
            "\n",
            "Once you arrive in Tagbilaran City, you can rent a car or take a taxi to your hotel. Alternatively, you can also take a bus or a van to your destination. Keep in mind that the roads on Bohol Island can be narrow and winding, so it's important to be careful while driving.\n",
            "\n",
            "Meals:\n",
            "\n",
            "Bohol Island is known for its delicious local cuisine, which features fresh seafood, exotic fruits, and spicy flavors. Some of the must-try dishes in Bohol include:\n",
            "\n",
            "1. Balut: A popular street food made from fertilized duck eggs, boiled and eaten straight from the shell.\n",
            "2. Tarsier: A small, round, and hairy creature that is considered a delicacy in Bohol. It can be grilled, stewed, or eaten raw.\n",
            "3. Sisig: A Filipino dish made from marinated pork that is grilled and served with rice.\n",
            "4. Halo-halo: A sweet and refreshing Filipino dessert made from shaved ice, beans, corn, and various fruits.\n",
            "\n",
            "There are many restaurants and street food stalls in Bohol that serve these delicious dishes. You can also try the local seafood, which is fresh and abundant on the island.\n",
            "\n",
            "Hotels:\n",
            "\n",
            "Bohol Island has a range of hotels to suit all budgets and preferences. From luxury resorts to budget-friendly guesthouses, you can find something for everyone. Some of the best hotels in Bohol include:\n",
            "\n",
            "1. The Belvedere Hotel: A luxurious resort located in Panglao Island that offers stunning ocean views, a spa, and a range of amenities.\n",
            "2. Bohol Tropics Resort: A beachfront resort located in Alona Beach that features comfortable rooms, a swimming pool, and a restaurant.\n",
            "3. The Farm at Sanctuary: A boutique hotel located in a lush green setting that offers a peaceful and serene atmosphere.\n",
            "4. The Bohol Pension House: A budget-friendly guesthouse located in Tagbilaran City that offers clean and comfortable rooms at an affordable price.\n",
            "\n",
            "Activities:\n",
            "\n",
            "Bohol Island is home to many natural wonders and cultural experiences that are worth exploring. Some of the must-do activities in Bohol include:\n",
            "\n",
            "1. Chocolate Hills: A stunning geological formation made up of thousands of chocolate-colored hills that are best viewed during sunset.\n",
            "2. Tarsier Conservation Area: A protected area where you can see and interact with the endemic tarsier species.\n",
            "3. Alona Beach: A popular beach destination with crystal clear waters, white sand, and a range of water sports activities.\n",
            "4. Loboc River Cruise: A scenic boat ride along the Loboc River, where you can see historic sites, natural wonders, and traditional Filipino villages.\n",
            "\n",
            "In conclusion, Bohol Island is a hidden gem that is worth exploring. With its stunning natural wonders, delicious local cuisine, and unique cultural experiences, this island is a must-visit destination for anyone traveling to the Philippines. Whether you're looking for adventure, relaxation, or a combination of both, Bohol Island has something to offer for everyone.\n",
            "CPU times: user 108 ms, sys: 9.34 ms, total: 117 ms\n",
            "Wall time: 13.8 s\n"
          ]
        }
      ],
      "source": [
        "%%time\n",
        "completion = client.chat.completions.create(\n",
        "  model=\"mistralai/mistral-7b-instruct:free\",\n",
        "  messages=[\n",
        "    {\n",
        "      \"role\": \"user\",\n",
        "      \"content\": \"write a blog post in Bohol island including transportation, meals, hotels and activities.\",\n",
        "    },\n",
        "  ],\n",
        ")\n",
        "print(completion.choices[0].message.content)"
      ]
    },
    {
      "cell_type": "markdown",
      "metadata": {
        "id": "-IlG4SWTZ3im"
      },
      "source": [
        "# CrewAI Test:"
      ]
    },
    {
      "cell_type": "code",
      "execution_count": null,
      "metadata": {
        "id": "XlPQZnpfAaif"
      },
      "outputs": [],
      "source": [
        "!pip install --quiet crewai"
      ]
    },
    {
      "cell_type": "code",
      "execution_count": null,
      "metadata": {
        "id": "46PIDRmuAd7O"
      },
      "outputs": [],
      "source": [
        "import os\n",
        "from crewai import Agent, Task, Crew, Process\n",
        "\n",
        "from langchain_openai import ChatOpenAI\n",
        "\n",
        "llm = ChatOpenAI(model=\"nousresearch/nous-hermes-llama2-13b\",\n",
        "api_key=\"sk-or-v1-...\",\n",
        "base_url=\"https://openrouter.ai/api/v1\")"
      ]
    },
    {
      "cell_type": "code",
      "execution_count": null,
      "metadata": {
        "id": "0OPkWlC6A_N1"
      },
      "outputs": [],
      "source": [
        "Writer = Agent(\n",
        "  role='Writer',\n",
        "  goal=\"\"\"Writing attractive travel blog post.\"\"\",\n",
        "  backstory=\"\"\"This is a blog post writer who is capable of writing travel blogs.\"\"\",\n",
        "  verbose=False,\n",
        "  allow_delegation=False,\n",
        "  llm=llm,\n",
        ")\n",
        "Reviewer = Agent(\n",
        "  role='Reviewer',\n",
        "  goal=\"\"\"Review the blog post and give comments on Writer's post\"\"\",\n",
        "  backstory=\"\"\"This is a writing reviewer who will normally review the blogs from writers.\"\"\",\n",
        "  verbose=False,\n",
        "  allow_delegation=False,\n",
        "  llm=llm,\n",
        ")"
      ]
    },
    {
      "cell_type": "code",
      "execution_count": null,
      "metadata": {
        "id": "ixeI2o4_BqdV"
      },
      "outputs": [],
      "source": [
        "task_writer = Task(\n",
        "  description=\"\"\"Generate a qualified blog post about travelling in Bohol Island.\"\"\",\n",
        "  agent=Writer\n",
        ")\n",
        "\n",
        "task_reviewer = Task(\n",
        "  description=\"\"\"give professional comments in details for a given blog post.\"\"\",\n",
        "  agent=Reviewer\n",
        ")"
      ]
    },
    {
      "cell_type": "code",
      "execution_count": null,
      "metadata": {
        "colab": {
          "base_uri": "https://localhost:8080/",
          "height": 937
        },
        "id": "NMfAmS1rCE9I",
        "outputId": "4666a74b-7152-4e34-a2e7-6fb157d25b5b"
      },
      "outputs": [
        {
          "data": {
            "text/html": [
              "\n",
              "  <style>\n",
              "    pre {\n",
              "        white-space: pre-wrap;\n",
              "    }\n",
              "  </style>\n",
              "  "
            ],
            "text/plain": [
              "<IPython.core.display.HTML object>"
            ]
          },
          "metadata": {},
          "output_type": "display_data"
        },
        {
          "name": "stderr",
          "output_type": "stream",
          "text": [
            "WARNING:opentelemetry.trace:Overriding of current TracerProvider is not allowed\n"
          ]
        },
        {
          "name": "stdout",
          "output_type": "stream",
          "text": [
            "[DEBUG]: Working Agent: Writer\n",
            "[INFO]: Starting Task: Generate a qualified blog post about travelling in Bohol Island.\n",
            "[DEBUG]: [Writer] Task output: Here's a blog post about travelling in Bohol Island:\n",
            "\n",
            "Bohol Island: A Paradise for Adventure Seekers\n",
            "\n",
            "Bohol Island, located in the Philippines, is a popular tourist destination known for its stunning beaches, lush rainforests, and unique landmarks. This island paradise is perfect for travelers seeking adventure and relaxation.\n",
            "\n",
            "Day 1: Arrival and Check-in\n",
            "\n",
            "Arrive in Bohol and check-in at your hotel. Spend the rest of the day exploring the nearby area and getting a feel for the island. Don't forget to try some traditional Filipino dishes at a local restaurant.\n",
            "\n",
            "Day 2: Chocolate Hills and Loboc River Cruise\n",
            "\n",
            "Start the day with a visit to the famous Chocolate Hills, Bohol's most iconic attraction. These unique geological formations are a must-see for any traveler. Next, take a relaxing cruise along the picturesque Loboc River. Enjoy a delicious lunch while admiring the stunning views.\n",
            "\n",
            "Day 3: Panglao Island Beach Hopping\n",
            "\n",
            "Spend the day exploring the beautiful beaches of Panglao Island. Visit Alona Beach, Dolphin Beach, and Balicasag Island, among others. Don't forget to try some scuba diving or snorkeling to see the island's vibrant marine life.\n",
            "\n",
            "Day 4: Bohol Museum and Shopping\n",
            "\n",
            "Visit the Bohol Museum to learn about the island's rich history and culture. Afterward, do some souvenir shopping at the nearby market. Be sure to pick up some handmade crafts or delicious local delicacies.\n",
            "\n",
            "Day 5: Baclayon Church and Tarsier Sanctuary\n",
            "\n",
            "Start the day with a visit to the beautiful Baclayon Church, one of the oldest churches in the Philippines. Next, head to the Tarsier Sanctuary to see the island's famous residents, the Philippine Tarsiers. These tiny primates are unique to the Philippines and make for an unforgettable sight.\n",
            "\n",
            "Conclusion:\n",
            "\n",
            "Bohol Island is a paradise for adventure seekers, offering a wide range of activities and attractions for travelers of all ages. From its stunning natural landmarks to its rich cultural heritage, Bohol has something for everyone. Don't miss the opportunity to explore this beautiful island paradise.\n",
            "\n",
            "\n",
            "[DEBUG]: Working Agent: Reviewer\n",
            "[INFO]: Starting Task: give professional comments in details for a given blog post.\n",
            "[DEBUG]: [Reviewer] Task output: Overall, the blog post does a good job of highlighting the various attractions and activities available on Bohol Island. The itinerary provided in the post gives readers a good idea of what they can do and see on the island in five days. However, it would be helpful to include more information about the specific sites and experiences mentioned in the post. For example, the Chocolate Hills, Loboc River Cruise, Panglao Island Beach Hopping, Baclayon Church, and Tarsier Sanctuary are all mentioned, but there is little detail about what makes these places unique or interesting. Providing more background information and details about each location would help readers better understand the importance and appeal of these attractions. Additionally, including some local tips or recommendations for each activity would make the post more engaging and useful for readers planning their own trip to Bohol Island.\n",
            "\n",
            "\n",
            "CPU times: user 157 ms, sys: 21.8 ms, total: 178 ms\n",
            "Wall time: 21.2 s\n"
          ]
        }
      ],
      "source": [
        "%%time\n",
        "crew = Crew(\n",
        "  agents=[Writer, Reviewer ],\n",
        "  tasks=[task_writer, task_reviewer],\n",
        "  verbose=2\n",
        ")\n",
        "\n",
        "result = crew.kickoff()"
      ]
    }
  ],
  "metadata": {
    "colab": {
      "provenance": []
    },
    "kernelspec": {
      "display_name": "Python 3",
      "name": "python3"
    },
    "language_info": {
      "name": "python"
    }
  },
  "nbformat": 4,
  "nbformat_minor": 0
}
