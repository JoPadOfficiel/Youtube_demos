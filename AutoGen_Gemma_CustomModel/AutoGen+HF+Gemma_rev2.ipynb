{
  "nbformat": 4,
  "nbformat_minor": 0,
  "metadata": {
    "colab": {
      "provenance": [],
      "machine_shape": "hm",
      "gpuType": "T4"
    },
    "kernelspec": {
      "name": "python3",
      "display_name": "Python 3"
    },
    "language_info": {
      "name": "python"
    },
    "accelerator": "GPU",
    "widgets": {
      "application/vnd.jupyter.widget-state+json": {
        "ac24d574d9aa45d2bf65d96f2c4bfe2e": {
          "model_module": "@jupyter-widgets/controls",
          "model_name": "VBoxModel",
          "model_module_version": "1.5.0",
          "state": {
            "_dom_classes": [],
            "_model_module": "@jupyter-widgets/controls",
            "_model_module_version": "1.5.0",
            "_model_name": "VBoxModel",
            "_view_count": null,
            "_view_module": "@jupyter-widgets/controls",
            "_view_module_version": "1.5.0",
            "_view_name": "VBoxView",
            "box_style": "",
            "children": [
              "IPY_MODEL_92cc254708184c18af4c0461bd193a1a",
              "IPY_MODEL_bd40ecbf790c4f9cbfa507b9ae88bb02",
              "IPY_MODEL_4dcd1c820d7b4594882f25eb13378b98",
              "IPY_MODEL_7059d5b5d5f94fa7a63649b38f7020ac",
              "IPY_MODEL_d1ae92202fba4d3bb731bcf2a3e2280e"
            ],
            "layout": "IPY_MODEL_030abea2aba0426bb836650515de7c9d"
          }
        },
        "92cc254708184c18af4c0461bd193a1a": {
          "model_module": "@jupyter-widgets/controls",
          "model_name": "HTMLModel",
          "model_module_version": "1.5.0",
          "state": {
            "_dom_classes": [],
            "_model_module": "@jupyter-widgets/controls",
            "_model_module_version": "1.5.0",
            "_model_name": "HTMLModel",
            "_view_count": null,
            "_view_module": "@jupyter-widgets/controls",
            "_view_module_version": "1.5.0",
            "_view_name": "HTMLView",
            "description": "",
            "description_tooltip": null,
            "layout": "IPY_MODEL_04700a7d1d544a17bb3c84d7cac50b2c",
            "placeholder": "​",
            "style": "IPY_MODEL_995d19d0a6b64f70ae4c0515cc23130b",
            "value": "<center> <img\nsrc=https://huggingface.co/front/assets/huggingface_logo-noborder.svg\nalt='Hugging Face'> <br> Copy a token from <a\nhref=\"https://huggingface.co/settings/tokens\" target=\"_blank\">your Hugging Face\ntokens page</a> and paste it below. <br> Immediately click login after copying\nyour token or it might be stored in plain text in this notebook file. </center>"
          }
        },
        "bd40ecbf790c4f9cbfa507b9ae88bb02": {
          "model_module": "@jupyter-widgets/controls",
          "model_name": "PasswordModel",
          "model_module_version": "1.5.0",
          "state": {
            "_dom_classes": [],
            "_model_module": "@jupyter-widgets/controls",
            "_model_module_version": "1.5.0",
            "_model_name": "PasswordModel",
            "_view_count": null,
            "_view_module": "@jupyter-widgets/controls",
            "_view_module_version": "1.5.0",
            "_view_name": "PasswordView",
            "continuous_update": true,
            "description": "Token:",
            "description_tooltip": null,
            "disabled": false,
            "layout": "IPY_MODEL_8c019fdc4ce7465daed0049f9f352a82",
            "placeholder": "​",
            "style": "IPY_MODEL_b0906cc5f5dc48409a05491d35eb86a1",
            "value": ""
          }
        },
        "4dcd1c820d7b4594882f25eb13378b98": {
          "model_module": "@jupyter-widgets/controls",
          "model_name": "CheckboxModel",
          "model_module_version": "1.5.0",
          "state": {
            "_dom_classes": [],
            "_model_module": "@jupyter-widgets/controls",
            "_model_module_version": "1.5.0",
            "_model_name": "CheckboxModel",
            "_view_count": null,
            "_view_module": "@jupyter-widgets/controls",
            "_view_module_version": "1.5.0",
            "_view_name": "CheckboxView",
            "description": "Add token as git credential?",
            "description_tooltip": null,
            "disabled": false,
            "indent": true,
            "layout": "IPY_MODEL_251671ef39464cf6b1a336418d6ea4a0",
            "style": "IPY_MODEL_66bf2a1772ea4e34aa011096f17bf059",
            "value": true
          }
        },
        "7059d5b5d5f94fa7a63649b38f7020ac": {
          "model_module": "@jupyter-widgets/controls",
          "model_name": "ButtonModel",
          "model_module_version": "1.5.0",
          "state": {
            "_dom_classes": [],
            "_model_module": "@jupyter-widgets/controls",
            "_model_module_version": "1.5.0",
            "_model_name": "ButtonModel",
            "_view_count": null,
            "_view_module": "@jupyter-widgets/controls",
            "_view_module_version": "1.5.0",
            "_view_name": "ButtonView",
            "button_style": "",
            "description": "Login",
            "disabled": false,
            "icon": "",
            "layout": "IPY_MODEL_c783676ef6d94a79a3011c876e2faa66",
            "style": "IPY_MODEL_8a3daa734be941fd8c1112f47221cd68",
            "tooltip": ""
          }
        },
        "d1ae92202fba4d3bb731bcf2a3e2280e": {
          "model_module": "@jupyter-widgets/controls",
          "model_name": "HTMLModel",
          "model_module_version": "1.5.0",
          "state": {
            "_dom_classes": [],
            "_model_module": "@jupyter-widgets/controls",
            "_model_module_version": "1.5.0",
            "_model_name": "HTMLModel",
            "_view_count": null,
            "_view_module": "@jupyter-widgets/controls",
            "_view_module_version": "1.5.0",
            "_view_name": "HTMLView",
            "description": "",
            "description_tooltip": null,
            "layout": "IPY_MODEL_ec7b33360c94415dbc412958a6451fa8",
            "placeholder": "​",
            "style": "IPY_MODEL_5e841b32b5c24b86b9ef46385342b3e8",
            "value": "\n<b>Pro Tip:</b> If you don't already have one, you can create a dedicated\n'notebooks' token with 'write' access, that you can then easily reuse for all\nnotebooks. </center>"
          }
        },
        "030abea2aba0426bb836650515de7c9d": {
          "model_module": "@jupyter-widgets/base",
          "model_name": "LayoutModel",
          "model_module_version": "1.2.0",
          "state": {
            "_model_module": "@jupyter-widgets/base",
            "_model_module_version": "1.2.0",
            "_model_name": "LayoutModel",
            "_view_count": null,
            "_view_module": "@jupyter-widgets/base",
            "_view_module_version": "1.2.0",
            "_view_name": "LayoutView",
            "align_content": null,
            "align_items": "center",
            "align_self": null,
            "border": null,
            "bottom": null,
            "display": "flex",
            "flex": null,
            "flex_flow": "column",
            "grid_area": null,
            "grid_auto_columns": null,
            "grid_auto_flow": null,
            "grid_auto_rows": null,
            "grid_column": null,
            "grid_gap": null,
            "grid_row": null,
            "grid_template_areas": null,
            "grid_template_columns": null,
            "grid_template_rows": null,
            "height": null,
            "justify_content": null,
            "justify_items": null,
            "left": null,
            "margin": null,
            "max_height": null,
            "max_width": null,
            "min_height": null,
            "min_width": null,
            "object_fit": null,
            "object_position": null,
            "order": null,
            "overflow": null,
            "overflow_x": null,
            "overflow_y": null,
            "padding": null,
            "right": null,
            "top": null,
            "visibility": null,
            "width": "50%"
          }
        },
        "04700a7d1d544a17bb3c84d7cac50b2c": {
          "model_module": "@jupyter-widgets/base",
          "model_name": "LayoutModel",
          "model_module_version": "1.2.0",
          "state": {
            "_model_module": "@jupyter-widgets/base",
            "_model_module_version": "1.2.0",
            "_model_name": "LayoutModel",
            "_view_count": null,
            "_view_module": "@jupyter-widgets/base",
            "_view_module_version": "1.2.0",
            "_view_name": "LayoutView",
            "align_content": null,
            "align_items": null,
            "align_self": null,
            "border": null,
            "bottom": null,
            "display": null,
            "flex": null,
            "flex_flow": null,
            "grid_area": null,
            "grid_auto_columns": null,
            "grid_auto_flow": null,
            "grid_auto_rows": null,
            "grid_column": null,
            "grid_gap": null,
            "grid_row": null,
            "grid_template_areas": null,
            "grid_template_columns": null,
            "grid_template_rows": null,
            "height": null,
            "justify_content": null,
            "justify_items": null,
            "left": null,
            "margin": null,
            "max_height": null,
            "max_width": null,
            "min_height": null,
            "min_width": null,
            "object_fit": null,
            "object_position": null,
            "order": null,
            "overflow": null,
            "overflow_x": null,
            "overflow_y": null,
            "padding": null,
            "right": null,
            "top": null,
            "visibility": null,
            "width": null
          }
        },
        "995d19d0a6b64f70ae4c0515cc23130b": {
          "model_module": "@jupyter-widgets/controls",
          "model_name": "DescriptionStyleModel",
          "model_module_version": "1.5.0",
          "state": {
            "_model_module": "@jupyter-widgets/controls",
            "_model_module_version": "1.5.0",
            "_model_name": "DescriptionStyleModel",
            "_view_count": null,
            "_view_module": "@jupyter-widgets/base",
            "_view_module_version": "1.2.0",
            "_view_name": "StyleView",
            "description_width": ""
          }
        },
        "8c019fdc4ce7465daed0049f9f352a82": {
          "model_module": "@jupyter-widgets/base",
          "model_name": "LayoutModel",
          "model_module_version": "1.2.0",
          "state": {
            "_model_module": "@jupyter-widgets/base",
            "_model_module_version": "1.2.0",
            "_model_name": "LayoutModel",
            "_view_count": null,
            "_view_module": "@jupyter-widgets/base",
            "_view_module_version": "1.2.0",
            "_view_name": "LayoutView",
            "align_content": null,
            "align_items": null,
            "align_self": null,
            "border": null,
            "bottom": null,
            "display": null,
            "flex": null,
            "flex_flow": null,
            "grid_area": null,
            "grid_auto_columns": null,
            "grid_auto_flow": null,
            "grid_auto_rows": null,
            "grid_column": null,
            "grid_gap": null,
            "grid_row": null,
            "grid_template_areas": null,
            "grid_template_columns": null,
            "grid_template_rows": null,
            "height": null,
            "justify_content": null,
            "justify_items": null,
            "left": null,
            "margin": null,
            "max_height": null,
            "max_width": null,
            "min_height": null,
            "min_width": null,
            "object_fit": null,
            "object_position": null,
            "order": null,
            "overflow": null,
            "overflow_x": null,
            "overflow_y": null,
            "padding": null,
            "right": null,
            "top": null,
            "visibility": null,
            "width": null
          }
        },
        "b0906cc5f5dc48409a05491d35eb86a1": {
          "model_module": "@jupyter-widgets/controls",
          "model_name": "DescriptionStyleModel",
          "model_module_version": "1.5.0",
          "state": {
            "_model_module": "@jupyter-widgets/controls",
            "_model_module_version": "1.5.0",
            "_model_name": "DescriptionStyleModel",
            "_view_count": null,
            "_view_module": "@jupyter-widgets/base",
            "_view_module_version": "1.2.0",
            "_view_name": "StyleView",
            "description_width": ""
          }
        },
        "251671ef39464cf6b1a336418d6ea4a0": {
          "model_module": "@jupyter-widgets/base",
          "model_name": "LayoutModel",
          "model_module_version": "1.2.0",
          "state": {
            "_model_module": "@jupyter-widgets/base",
            "_model_module_version": "1.2.0",
            "_model_name": "LayoutModel",
            "_view_count": null,
            "_view_module": "@jupyter-widgets/base",
            "_view_module_version": "1.2.0",
            "_view_name": "LayoutView",
            "align_content": null,
            "align_items": null,
            "align_self": null,
            "border": null,
            "bottom": null,
            "display": null,
            "flex": null,
            "flex_flow": null,
            "grid_area": null,
            "grid_auto_columns": null,
            "grid_auto_flow": null,
            "grid_auto_rows": null,
            "grid_column": null,
            "grid_gap": null,
            "grid_row": null,
            "grid_template_areas": null,
            "grid_template_columns": null,
            "grid_template_rows": null,
            "height": null,
            "justify_content": null,
            "justify_items": null,
            "left": null,
            "margin": null,
            "max_height": null,
            "max_width": null,
            "min_height": null,
            "min_width": null,
            "object_fit": null,
            "object_position": null,
            "order": null,
            "overflow": null,
            "overflow_x": null,
            "overflow_y": null,
            "padding": null,
            "right": null,
            "top": null,
            "visibility": null,
            "width": null
          }
        },
        "66bf2a1772ea4e34aa011096f17bf059": {
          "model_module": "@jupyter-widgets/controls",
          "model_name": "DescriptionStyleModel",
          "model_module_version": "1.5.0",
          "state": {
            "_model_module": "@jupyter-widgets/controls",
            "_model_module_version": "1.5.0",
            "_model_name": "DescriptionStyleModel",
            "_view_count": null,
            "_view_module": "@jupyter-widgets/base",
            "_view_module_version": "1.2.0",
            "_view_name": "StyleView",
            "description_width": ""
          }
        },
        "c783676ef6d94a79a3011c876e2faa66": {
          "model_module": "@jupyter-widgets/base",
          "model_name": "LayoutModel",
          "model_module_version": "1.2.0",
          "state": {
            "_model_module": "@jupyter-widgets/base",
            "_model_module_version": "1.2.0",
            "_model_name": "LayoutModel",
            "_view_count": null,
            "_view_module": "@jupyter-widgets/base",
            "_view_module_version": "1.2.0",
            "_view_name": "LayoutView",
            "align_content": null,
            "align_items": null,
            "align_self": null,
            "border": null,
            "bottom": null,
            "display": null,
            "flex": null,
            "flex_flow": null,
            "grid_area": null,
            "grid_auto_columns": null,
            "grid_auto_flow": null,
            "grid_auto_rows": null,
            "grid_column": null,
            "grid_gap": null,
            "grid_row": null,
            "grid_template_areas": null,
            "grid_template_columns": null,
            "grid_template_rows": null,
            "height": null,
            "justify_content": null,
            "justify_items": null,
            "left": null,
            "margin": null,
            "max_height": null,
            "max_width": null,
            "min_height": null,
            "min_width": null,
            "object_fit": null,
            "object_position": null,
            "order": null,
            "overflow": null,
            "overflow_x": null,
            "overflow_y": null,
            "padding": null,
            "right": null,
            "top": null,
            "visibility": null,
            "width": null
          }
        },
        "8a3daa734be941fd8c1112f47221cd68": {
          "model_module": "@jupyter-widgets/controls",
          "model_name": "ButtonStyleModel",
          "model_module_version": "1.5.0",
          "state": {
            "_model_module": "@jupyter-widgets/controls",
            "_model_module_version": "1.5.0",
            "_model_name": "ButtonStyleModel",
            "_view_count": null,
            "_view_module": "@jupyter-widgets/base",
            "_view_module_version": "1.2.0",
            "_view_name": "StyleView",
            "button_color": null,
            "font_weight": ""
          }
        },
        "ec7b33360c94415dbc412958a6451fa8": {
          "model_module": "@jupyter-widgets/base",
          "model_name": "LayoutModel",
          "model_module_version": "1.2.0",
          "state": {
            "_model_module": "@jupyter-widgets/base",
            "_model_module_version": "1.2.0",
            "_model_name": "LayoutModel",
            "_view_count": null,
            "_view_module": "@jupyter-widgets/base",
            "_view_module_version": "1.2.0",
            "_view_name": "LayoutView",
            "align_content": null,
            "align_items": null,
            "align_self": null,
            "border": null,
            "bottom": null,
            "display": null,
            "flex": null,
            "flex_flow": null,
            "grid_area": null,
            "grid_auto_columns": null,
            "grid_auto_flow": null,
            "grid_auto_rows": null,
            "grid_column": null,
            "grid_gap": null,
            "grid_row": null,
            "grid_template_areas": null,
            "grid_template_columns": null,
            "grid_template_rows": null,
            "height": null,
            "justify_content": null,
            "justify_items": null,
            "left": null,
            "margin": null,
            "max_height": null,
            "max_width": null,
            "min_height": null,
            "min_width": null,
            "object_fit": null,
            "object_position": null,
            "order": null,
            "overflow": null,
            "overflow_x": null,
            "overflow_y": null,
            "padding": null,
            "right": null,
            "top": null,
            "visibility": null,
            "width": null
          }
        },
        "5e841b32b5c24b86b9ef46385342b3e8": {
          "model_module": "@jupyter-widgets/controls",
          "model_name": "DescriptionStyleModel",
          "model_module_version": "1.5.0",
          "state": {
            "_model_module": "@jupyter-widgets/controls",
            "_model_module_version": "1.5.0",
            "_model_name": "DescriptionStyleModel",
            "_view_count": null,
            "_view_module": "@jupyter-widgets/base",
            "_view_module_version": "1.2.0",
            "_view_name": "StyleView",
            "description_width": ""
          }
        },
        "ec06bab759144c998b2db1d535d8bb3b": {
          "model_module": "@jupyter-widgets/controls",
          "model_name": "HBoxModel",
          "model_module_version": "1.5.0",
          "state": {
            "_dom_classes": [],
            "_model_module": "@jupyter-widgets/controls",
            "_model_module_version": "1.5.0",
            "_model_name": "HBoxModel",
            "_view_count": null,
            "_view_module": "@jupyter-widgets/controls",
            "_view_module_version": "1.5.0",
            "_view_name": "HBoxView",
            "box_style": "",
            "children": [
              "IPY_MODEL_0e94d52041f845b98b5c3f2b77d67857",
              "IPY_MODEL_3164d0d7bf0b4034a839ea225cd740d3",
              "IPY_MODEL_dcf4f7182e9f4712ba754e18a9dd30ba"
            ],
            "layout": "IPY_MODEL_c4f52acc67944153bca45d0c3003f3ed"
          }
        },
        "0e94d52041f845b98b5c3f2b77d67857": {
          "model_module": "@jupyter-widgets/controls",
          "model_name": "HTMLModel",
          "model_module_version": "1.5.0",
          "state": {
            "_dom_classes": [],
            "_model_module": "@jupyter-widgets/controls",
            "_model_module_version": "1.5.0",
            "_model_name": "HTMLModel",
            "_view_count": null,
            "_view_module": "@jupyter-widgets/controls",
            "_view_module_version": "1.5.0",
            "_view_name": "HTMLView",
            "description": "",
            "description_tooltip": null,
            "layout": "IPY_MODEL_b0208521625f45dfb616ba9bc4581805",
            "placeholder": "​",
            "style": "IPY_MODEL_c3ee5e8eaa4d434db8ba2089146abb6a",
            "value": "Loading checkpoint shards: 100%"
          }
        },
        "3164d0d7bf0b4034a839ea225cd740d3": {
          "model_module": "@jupyter-widgets/controls",
          "model_name": "FloatProgressModel",
          "model_module_version": "1.5.0",
          "state": {
            "_dom_classes": [],
            "_model_module": "@jupyter-widgets/controls",
            "_model_module_version": "1.5.0",
            "_model_name": "FloatProgressModel",
            "_view_count": null,
            "_view_module": "@jupyter-widgets/controls",
            "_view_module_version": "1.5.0",
            "_view_name": "ProgressView",
            "bar_style": "success",
            "description": "",
            "description_tooltip": null,
            "layout": "IPY_MODEL_433f41969d264634909f568fba045747",
            "max": 4,
            "min": 0,
            "orientation": "horizontal",
            "style": "IPY_MODEL_3cc845d19fc24ee988622f06ab04b486",
            "value": 4
          }
        },
        "dcf4f7182e9f4712ba754e18a9dd30ba": {
          "model_module": "@jupyter-widgets/controls",
          "model_name": "HTMLModel",
          "model_module_version": "1.5.0",
          "state": {
            "_dom_classes": [],
            "_model_module": "@jupyter-widgets/controls",
            "_model_module_version": "1.5.0",
            "_model_name": "HTMLModel",
            "_view_count": null,
            "_view_module": "@jupyter-widgets/controls",
            "_view_module_version": "1.5.0",
            "_view_name": "HTMLView",
            "description": "",
            "description_tooltip": null,
            "layout": "IPY_MODEL_eb3dff9485594837bbea3f212f79f46d",
            "placeholder": "​",
            "style": "IPY_MODEL_5c414b6efcb8422aa74d833ab3c7beb4",
            "value": " 4/4 [00:14&lt;00:00,  3.33s/it]"
          }
        },
        "c4f52acc67944153bca45d0c3003f3ed": {
          "model_module": "@jupyter-widgets/base",
          "model_name": "LayoutModel",
          "model_module_version": "1.2.0",
          "state": {
            "_model_module": "@jupyter-widgets/base",
            "_model_module_version": "1.2.0",
            "_model_name": "LayoutModel",
            "_view_count": null,
            "_view_module": "@jupyter-widgets/base",
            "_view_module_version": "1.2.0",
            "_view_name": "LayoutView",
            "align_content": null,
            "align_items": null,
            "align_self": null,
            "border": null,
            "bottom": null,
            "display": null,
            "flex": null,
            "flex_flow": null,
            "grid_area": null,
            "grid_auto_columns": null,
            "grid_auto_flow": null,
            "grid_auto_rows": null,
            "grid_column": null,
            "grid_gap": null,
            "grid_row": null,
            "grid_template_areas": null,
            "grid_template_columns": null,
            "grid_template_rows": null,
            "height": null,
            "justify_content": null,
            "justify_items": null,
            "left": null,
            "margin": null,
            "max_height": null,
            "max_width": null,
            "min_height": null,
            "min_width": null,
            "object_fit": null,
            "object_position": null,
            "order": null,
            "overflow": null,
            "overflow_x": null,
            "overflow_y": null,
            "padding": null,
            "right": null,
            "top": null,
            "visibility": null,
            "width": null
          }
        },
        "b0208521625f45dfb616ba9bc4581805": {
          "model_module": "@jupyter-widgets/base",
          "model_name": "LayoutModel",
          "model_module_version": "1.2.0",
          "state": {
            "_model_module": "@jupyter-widgets/base",
            "_model_module_version": "1.2.0",
            "_model_name": "LayoutModel",
            "_view_count": null,
            "_view_module": "@jupyter-widgets/base",
            "_view_module_version": "1.2.0",
            "_view_name": "LayoutView",
            "align_content": null,
            "align_items": null,
            "align_self": null,
            "border": null,
            "bottom": null,
            "display": null,
            "flex": null,
            "flex_flow": null,
            "grid_area": null,
            "grid_auto_columns": null,
            "grid_auto_flow": null,
            "grid_auto_rows": null,
            "grid_column": null,
            "grid_gap": null,
            "grid_row": null,
            "grid_template_areas": null,
            "grid_template_columns": null,
            "grid_template_rows": null,
            "height": null,
            "justify_content": null,
            "justify_items": null,
            "left": null,
            "margin": null,
            "max_height": null,
            "max_width": null,
            "min_height": null,
            "min_width": null,
            "object_fit": null,
            "object_position": null,
            "order": null,
            "overflow": null,
            "overflow_x": null,
            "overflow_y": null,
            "padding": null,
            "right": null,
            "top": null,
            "visibility": null,
            "width": null
          }
        },
        "c3ee5e8eaa4d434db8ba2089146abb6a": {
          "model_module": "@jupyter-widgets/controls",
          "model_name": "DescriptionStyleModel",
          "model_module_version": "1.5.0",
          "state": {
            "_model_module": "@jupyter-widgets/controls",
            "_model_module_version": "1.5.0",
            "_model_name": "DescriptionStyleModel",
            "_view_count": null,
            "_view_module": "@jupyter-widgets/base",
            "_view_module_version": "1.2.0",
            "_view_name": "StyleView",
            "description_width": ""
          }
        },
        "433f41969d264634909f568fba045747": {
          "model_module": "@jupyter-widgets/base",
          "model_name": "LayoutModel",
          "model_module_version": "1.2.0",
          "state": {
            "_model_module": "@jupyter-widgets/base",
            "_model_module_version": "1.2.0",
            "_model_name": "LayoutModel",
            "_view_count": null,
            "_view_module": "@jupyter-widgets/base",
            "_view_module_version": "1.2.0",
            "_view_name": "LayoutView",
            "align_content": null,
            "align_items": null,
            "align_self": null,
            "border": null,
            "bottom": null,
            "display": null,
            "flex": null,
            "flex_flow": null,
            "grid_area": null,
            "grid_auto_columns": null,
            "grid_auto_flow": null,
            "grid_auto_rows": null,
            "grid_column": null,
            "grid_gap": null,
            "grid_row": null,
            "grid_template_areas": null,
            "grid_template_columns": null,
            "grid_template_rows": null,
            "height": null,
            "justify_content": null,
            "justify_items": null,
            "left": null,
            "margin": null,
            "max_height": null,
            "max_width": null,
            "min_height": null,
            "min_width": null,
            "object_fit": null,
            "object_position": null,
            "order": null,
            "overflow": null,
            "overflow_x": null,
            "overflow_y": null,
            "padding": null,
            "right": null,
            "top": null,
            "visibility": null,
            "width": null
          }
        },
        "3cc845d19fc24ee988622f06ab04b486": {
          "model_module": "@jupyter-widgets/controls",
          "model_name": "ProgressStyleModel",
          "model_module_version": "1.5.0",
          "state": {
            "_model_module": "@jupyter-widgets/controls",
            "_model_module_version": "1.5.0",
            "_model_name": "ProgressStyleModel",
            "_view_count": null,
            "_view_module": "@jupyter-widgets/base",
            "_view_module_version": "1.2.0",
            "_view_name": "StyleView",
            "bar_color": null,
            "description_width": ""
          }
        },
        "eb3dff9485594837bbea3f212f79f46d": {
          "model_module": "@jupyter-widgets/base",
          "model_name": "LayoutModel",
          "model_module_version": "1.2.0",
          "state": {
            "_model_module": "@jupyter-widgets/base",
            "_model_module_version": "1.2.0",
            "_model_name": "LayoutModel",
            "_view_count": null,
            "_view_module": "@jupyter-widgets/base",
            "_view_module_version": "1.2.0",
            "_view_name": "LayoutView",
            "align_content": null,
            "align_items": null,
            "align_self": null,
            "border": null,
            "bottom": null,
            "display": null,
            "flex": null,
            "flex_flow": null,
            "grid_area": null,
            "grid_auto_columns": null,
            "grid_auto_flow": null,
            "grid_auto_rows": null,
            "grid_column": null,
            "grid_gap": null,
            "grid_row": null,
            "grid_template_areas": null,
            "grid_template_columns": null,
            "grid_template_rows": null,
            "height": null,
            "justify_content": null,
            "justify_items": null,
            "left": null,
            "margin": null,
            "max_height": null,
            "max_width": null,
            "min_height": null,
            "min_width": null,
            "object_fit": null,
            "object_position": null,
            "order": null,
            "overflow": null,
            "overflow_x": null,
            "overflow_y": null,
            "padding": null,
            "right": null,
            "top": null,
            "visibility": null,
            "width": null
          }
        },
        "5c414b6efcb8422aa74d833ab3c7beb4": {
          "model_module": "@jupyter-widgets/controls",
          "model_name": "DescriptionStyleModel",
          "model_module_version": "1.5.0",
          "state": {
            "_model_module": "@jupyter-widgets/controls",
            "_model_module_version": "1.5.0",
            "_model_name": "DescriptionStyleModel",
            "_view_count": null,
            "_view_module": "@jupyter-widgets/base",
            "_view_module_version": "1.2.0",
            "_view_name": "StyleView",
            "description_width": ""
          }
        }
      }
    }
  },
  "cells": [
    {
      "cell_type": "code",
      "source": [
        "from IPython.display import HTML, display\n",
        "\n",
        "def set_css():\n",
        "  display(HTML('''\n",
        "  <style>\n",
        "    pre {\n",
        "        white-space: pre-wrap;\n",
        "    }\n",
        "  </style>\n",
        "  '''))\n",
        "get_ipython().events.register('pre_run_cell', set_css)\n"
      ],
      "metadata": {
        "id": "gJAGUq6PN-ba"
      },
      "execution_count": 1,
      "outputs": []
    },
    {
      "cell_type": "code",
      "execution_count": 2,
      "metadata": {
        "colab": {
          "base_uri": "https://localhost:8080/",
          "height": 69
        },
        "id": "tgxhmWZDzrga",
        "outputId": "79d5aae8-af7b-4f8a-9af9-879823bdf776"
      },
      "outputs": [
        {
          "output_type": "display_data",
          "data": {
            "text/plain": [
              "<IPython.core.display.HTML object>"
            ],
            "text/html": [
              "\n",
              "  <style>\n",
              "    pre {\n",
              "        white-space: pre-wrap;\n",
              "    }\n",
              "  </style>\n",
              "  "
            ]
          },
          "metadata": {}
        },
        {
          "output_type": "stream",
          "name": "stdout",
          "text": [
            "  Installing build dependencies ... \u001b[?25l\u001b[?25hdone\n",
            "  Getting requirements to build wheel ... \u001b[?25l\u001b[?25hdone\n",
            "  Preparing metadata (pyproject.toml) ... \u001b[?25l\u001b[?25hdone\n"
          ]
        }
      ],
      "source": [
        "!pip install --quiet --upgrade pyautogen~=0.2.0b4 torch git+https://github.com/huggingface/transformers sentencepiece"
      ]
    },
    {
      "cell_type": "code",
      "source": [
        "!pip install --quiet --upgrade accelerate bitsandbytes"
      ],
      "metadata": {
        "id": "hWq9HJtP6TjH",
        "colab": {
          "base_uri": "https://localhost:8080/",
          "height": 17
        },
        "outputId": "6d2850c9-85c2-4dd5-8110-3e11e6766842"
      },
      "execution_count": 3,
      "outputs": [
        {
          "output_type": "display_data",
          "data": {
            "text/plain": [
              "<IPython.core.display.HTML object>"
            ],
            "text/html": [
              "\n",
              "  <style>\n",
              "    pre {\n",
              "        white-space: pre-wrap;\n",
              "    }\n",
              "  </style>\n",
              "  "
            ]
          },
          "metadata": {}
        }
      ]
    },
    {
      "cell_type": "code",
      "source": [
        "import autogen\n",
        "from autogen import AssistantAgent, UserProxyAgent\n",
        "from transformers import AutoTokenizer, GenerationConfig, AutoModelForCausalLM, BitsAndBytesConfig\n",
        "from types import SimpleNamespace\n",
        "import torch"
      ],
      "metadata": {
        "id": "Rq_P8gLbz3Cf",
        "colab": {
          "base_uri": "https://localhost:8080/",
          "height": 17
        },
        "outputId": "b716cb52-997b-4587-b632-fc9f1556ffdf"
      },
      "execution_count": 4,
      "outputs": [
        {
          "output_type": "display_data",
          "data": {
            "text/plain": [
              "<IPython.core.display.HTML object>"
            ],
            "text/html": [
              "\n",
              "  <style>\n",
              "    pre {\n",
              "        white-space: pre-wrap;\n",
              "    }\n",
              "  </style>\n",
              "  "
            ]
          },
          "metadata": {}
        }
      ]
    },
    {
      "cell_type": "code",
      "source": [
        "import os\n",
        "os.environ['OAI_CONFIG_LIST'] ='[{\"model\": \"google/gemma-7b-it\",\"model_client_cls\": \"CustomModelClient\",\"device\": \"cuda\",\"n\": 1,\"params\": {\"max_length\": 1000}}]'"
      ],
      "metadata": {
        "id": "Iv13PAZC0gPV",
        "colab": {
          "base_uri": "https://localhost:8080/",
          "height": 17
        },
        "outputId": "f4f37fe5-68dd-4d77-b43e-967c660c3fd2"
      },
      "execution_count": 5,
      "outputs": [
        {
          "output_type": "display_data",
          "data": {
            "text/plain": [
              "<IPython.core.display.HTML object>"
            ],
            "text/html": [
              "\n",
              "  <style>\n",
              "    pre {\n",
              "        white-space: pre-wrap;\n",
              "    }\n",
              "  </style>\n",
              "  "
            ]
          },
          "metadata": {}
        }
      ]
    },
    {
      "cell_type": "code",
      "source": [
        "from huggingface_hub import login\n",
        "login()"
      ],
      "metadata": {
        "colab": {
          "base_uri": "https://localhost:8080/",
          "height": 331,
          "referenced_widgets": [
            "ac24d574d9aa45d2bf65d96f2c4bfe2e",
            "92cc254708184c18af4c0461bd193a1a",
            "bd40ecbf790c4f9cbfa507b9ae88bb02",
            "4dcd1c820d7b4594882f25eb13378b98",
            "7059d5b5d5f94fa7a63649b38f7020ac",
            "d1ae92202fba4d3bb731bcf2a3e2280e",
            "030abea2aba0426bb836650515de7c9d",
            "04700a7d1d544a17bb3c84d7cac50b2c",
            "995d19d0a6b64f70ae4c0515cc23130b",
            "8c019fdc4ce7465daed0049f9f352a82",
            "b0906cc5f5dc48409a05491d35eb86a1",
            "251671ef39464cf6b1a336418d6ea4a0",
            "66bf2a1772ea4e34aa011096f17bf059",
            "c783676ef6d94a79a3011c876e2faa66",
            "8a3daa734be941fd8c1112f47221cd68",
            "ec7b33360c94415dbc412958a6451fa8",
            "5e841b32b5c24b86b9ef46385342b3e8"
          ]
        },
        "id": "vwggfjmU2cu1",
        "outputId": "7d8a6301-5eb4-4142-d46d-7ac16af1dc47"
      },
      "execution_count": 6,
      "outputs": [
        {
          "output_type": "display_data",
          "data": {
            "text/plain": [
              "<IPython.core.display.HTML object>"
            ],
            "text/html": [
              "\n",
              "  <style>\n",
              "    pre {\n",
              "        white-space: pre-wrap;\n",
              "    }\n",
              "  </style>\n",
              "  "
            ]
          },
          "metadata": {}
        },
        {
          "output_type": "display_data",
          "data": {
            "text/plain": [
              "VBox(children=(HTML(value='<center> <img\\nsrc=https://huggingface.co/front/assets/huggingface_logo-noborder.sv…"
            ],
            "application/vnd.jupyter.widget-view+json": {
              "version_major": 2,
              "version_minor": 0,
              "model_id": "ac24d574d9aa45d2bf65d96f2c4bfe2e"
            }
          },
          "metadata": {}
        }
      ]
    },
    {
      "cell_type": "code",
      "source": [
        "quantization_config = BitsAndBytesConfig(load_in_4bit=True, bnb_4bit_compute_dtype=torch.float16)\n",
        "\n",
        "custom_model  = AutoModelForCausalLM.from_pretrained(\"google/gemma-7b-it\",\n",
        "                                                          quantization_config=quantization_config,\n",
        "                                                          low_cpu_mem_usage=True,\n",
        "                                                          torch_dtype=torch.float16)\n",
        "custom_tokenizer = AutoTokenizer.from_pretrained(\"google/gemma-7b-it\")"
      ],
      "metadata": {
        "colab": {
          "base_uri": "https://localhost:8080/",
          "height": 153,
          "referenced_widgets": [
            "ec06bab759144c998b2db1d535d8bb3b",
            "0e94d52041f845b98b5c3f2b77d67857",
            "3164d0d7bf0b4034a839ea225cd740d3",
            "dcf4f7182e9f4712ba754e18a9dd30ba",
            "c4f52acc67944153bca45d0c3003f3ed",
            "b0208521625f45dfb616ba9bc4581805",
            "c3ee5e8eaa4d434db8ba2089146abb6a",
            "433f41969d264634909f568fba045747",
            "3cc845d19fc24ee988622f06ab04b486",
            "eb3dff9485594837bbea3f212f79f46d",
            "5c414b6efcb8422aa74d833ab3c7beb4"
          ]
        },
        "id": "sIi-dM9clKB4",
        "outputId": "9d2fe10d-9d06-47a1-a0d0-f840bedf41e7"
      },
      "execution_count": 7,
      "outputs": [
        {
          "output_type": "display_data",
          "data": {
            "text/plain": [
              "<IPython.core.display.HTML object>"
            ],
            "text/html": [
              "\n",
              "  <style>\n",
              "    pre {\n",
              "        white-space: pre-wrap;\n",
              "    }\n",
              "  </style>\n",
              "  "
            ]
          },
          "metadata": {}
        },
        {
          "output_type": "stream",
          "name": "stderr",
          "text": [
            "/usr/local/lib/python3.10/dist-packages/huggingface_hub/utils/_token.py:88: UserWarning: \n",
            "The secret `HF_TOKEN` does not exist in your Colab secrets.\n",
            "To authenticate with the Hugging Face Hub, create a token in your settings tab (https://huggingface.co/settings/tokens), set it as secret in your Google Colab and restart your session.\n",
            "You will be able to reuse this secret in all of your notebooks.\n",
            "Please note that authentication is recommended but still optional to access public models or datasets.\n",
            "  warnings.warn(\n"
          ]
        },
        {
          "output_type": "display_data",
          "data": {
            "text/plain": [
              "Loading checkpoint shards:   0%|          | 0/4 [00:00<?, ?it/s]"
            ],
            "application/vnd.jupyter.widget-view+json": {
              "version_major": 2,
              "version_minor": 0,
              "model_id": "ec06bab759144c998b2db1d535d8bb3b"
            }
          },
          "metadata": {}
        }
      ]
    },
    {
      "cell_type": "code",
      "source": [
        "\n",
        "def replace_system_role_with_user(structure):\n",
        "    # Iterate through each element in the structure\n",
        "    updated_structure = []\n",
        "    previous_role = None\n",
        "    for item in structure:\n",
        "        updated_structure.append(item)\n",
        "        # Check if the role is 'system' and replace it with 'user'\n",
        "        if item.get('role') == 'system':\n",
        "            item['role'] = 'user'\n",
        "            dummy_response = {'content': 'ok', 'role': 'assistant'}\n",
        "            updated_structure.append(dummy_response)\n",
        "            #item['role']. = 'assistant'\n",
        "        elif item.get('role') == 'user':\n",
        "            updated_structure.append({'content': 'ok', 'role': 'assistant'})\n",
        "        elif item.get('role') == 'assistant':\n",
        "            if updated_structure[-2]['role'] == 'assistant':\n",
        "                updated_structure.pop()\n",
        "\n",
        "        #previous_role = item['role']\n",
        "\n",
        "    if updated_structure and updated_structure[-1]['role'] == 'assistant':\n",
        "        updated_structure.pop()\n",
        "    # Return the modified structure\n",
        "    return updated_structure\n",
        "\n",
        "# custom client with custom model loader\n",
        "class CustomModelClient:\n",
        "    def __init__(self, config, **kwargs):\n",
        "        print(f\"CustomModelClient config: {config}\")\n",
        "        self.device = config.get(\"device\", \"cpu\")\n",
        "\n",
        "        self.model = custom_model\n",
        "        self.model_name = config[\"model\"]\n",
        "        self.tokenizer = custom_tokenizer\n",
        "        self.tokenizer.pad_token_id = self.tokenizer.eos_token_id\n",
        "\n",
        "        # params are set by  the user and consumed by the user since they are providing a custom model\n",
        "        # so anything can be done here\n",
        "        gen_config_params = config.get(\"params\", {})\n",
        "        self.max_length = gen_config_params.get(\"max_length\", 256)\n",
        "\n",
        "        print(f\"Loaded model {config['model']} to {self.device}\")\n",
        "\n",
        "    def create(self, params):\n",
        "        if params.get(\"stream\", False) and \"messages\" in params:\n",
        "            raise NotImplementedError(\"Local models do not support streaming.\")\n",
        "        else:\n",
        "            num_of_responses = params.get(\"n\", 1)\n",
        "\n",
        "            # can create my own data response class\n",
        "            # here using SimpleNamespace for simplicity\n",
        "            # as long as it adheres to the ClientResponseProtocol\n",
        "\n",
        "            response = SimpleNamespace()\n",
        "\n",
        "            chat_template = replace_system_role_with_user(params[\"messages\"])\n",
        "            #chat_template = params[\"messages\"]\n",
        "\n",
        "            inputs = self.tokenizer.apply_chat_template(\n",
        "                chat_template, return_tensors=\"pt\", add_generation_prompt=True\n",
        "            ).to(self.device)\n",
        "            inputs_length = inputs.shape[-1]\n",
        "\n",
        "            # add inputs_length to max_length\n",
        "            max_length = self.max_length + inputs_length\n",
        "            generation_config = GenerationConfig(\n",
        "                max_length=max_length,\n",
        "                eos_token_id=self.tokenizer.eos_token_id,\n",
        "                pad_token_id=self.tokenizer.eos_token_id,\n",
        "            )\n",
        "\n",
        "            response.choices = []\n",
        "            response.model = self.model_name\n",
        "\n",
        "            for _ in range(num_of_responses):\n",
        "                outputs = self.model.generate(inputs, generation_config=generation_config)\n",
        "                # Decode only the newly generated text, excluding the prompt\n",
        "                text = self.tokenizer.decode(outputs[0, inputs_length:])\n",
        "                choice = SimpleNamespace()\n",
        "                choice.message = SimpleNamespace()\n",
        "                choice.message.content = text\n",
        "                choice.message.function_call = None\n",
        "                response.choices.append(choice)\n",
        "\n",
        "            return response\n",
        "\n",
        "    def message_retrieval(self, response):\n",
        "        \"\"\"Retrieve the messages from the response.\"\"\"\n",
        "        choices = response.choices\n",
        "        return [choice.message.content for choice in choices]\n",
        "\n",
        "    def cost(self, response) -> float:\n",
        "        \"\"\"Calculate the cost of the response.\"\"\"\n",
        "        response.cost = 0\n",
        "        return 0\n",
        "\n",
        "    @staticmethod\n",
        "    def get_usage(response):\n",
        "        # returns a dict of prompt_tokens, completion_tokens, total_tokens, cost, model\n",
        "        # if usage needs to be tracked, else None\n",
        "        return {}"
      ],
      "metadata": {
        "id": "4zfFipzKz_tO",
        "colab": {
          "base_uri": "https://localhost:8080/",
          "height": 17
        },
        "outputId": "cacc7bb5-5041-4127-aaaa-ec91e5b1cc75"
      },
      "execution_count": 8,
      "outputs": [
        {
          "output_type": "display_data",
          "data": {
            "text/plain": [
              "<IPython.core.display.HTML object>"
            ],
            "text/html": [
              "\n",
              "  <style>\n",
              "    pre {\n",
              "        white-space: pre-wrap;\n",
              "    }\n",
              "  </style>\n",
              "  "
            ]
          },
          "metadata": {}
        }
      ]
    },
    {
      "cell_type": "code",
      "source": [
        "config_list_custom = autogen.config_list_from_json(\n",
        "    \"OAI_CONFIG_LIST\",\n",
        ")\n",
        "llm_config={\"config_list\": config_list_custom, \"cache_seed\": 43, \"temperature\": 0.7}"
      ],
      "metadata": {
        "id": "UgQD7Ade0Eac",
        "colab": {
          "base_uri": "https://localhost:8080/",
          "height": 17
        },
        "outputId": "76e60b89-9886-41e0-bd64-cd1b81d02e47"
      },
      "execution_count": 9,
      "outputs": [
        {
          "output_type": "display_data",
          "data": {
            "text/plain": [
              "<IPython.core.display.HTML object>"
            ],
            "text/html": [
              "\n",
              "  <style>\n",
              "    pre {\n",
              "        white-space: pre-wrap;\n",
              "    }\n",
              "  </style>\n",
              "  "
            ]
          },
          "metadata": {}
        }
      ]
    },
    {
      "cell_type": "markdown",
      "source": [
        "\n",
        "\n",
        "\n",
        "\n",
        "# Case - Group Orchestration"
      ],
      "metadata": {
        "id": "8zmXXGBQHGda"
      }
    },
    {
      "cell_type": "code",
      "source": [
        "user_proxy = autogen.UserProxyAgent(\n",
        "    name=\"User_proxy\",\n",
        "    system_message=\"A human admin.\",\n",
        "    code_execution_config=False,\n",
        "    human_input_mode=\"TERMINATE\",\n",
        "    is_termination_msg=lambda x: x.get(\"content\", \"\") and x.get(\"content\", \"\").rstrip().endswith(\"TERMINATE\"),\n",
        ")\n",
        "writer = autogen.AssistantAgent(\n",
        "    name=\"Writer\",\n",
        "    system_message=\"\"\"You are a blog post writer who is capable of writing a travel blog.\n",
        "                      You generate one iteration of an article once at a time.\n",
        "                      You never provide review comments.\n",
        "                      You are open to comments and willing to make changes in your article based on these comments.\n",
        "                    \"\"\",\n",
        "    llm_config=llm_config,\n",
        "    description=\"\"\"This is a blog post writer who is capable of writing travel blogs.\n",
        "                   The writer is open to any comments and recommendations for improving the article.\n",
        "                   Ask writer to iterate article every time when there is a new change recommendation from editor.\n",
        "\n",
        "                \"\"\"\n",
        ")\n",
        "editor = autogen.AssistantAgent(\n",
        "    name=\"Editor\",\n",
        "    system_message=\"\"\"You review blog posts and give change recommendations to make the article more viral on social media, for example, adding hashtag.\n",
        "                      You never write or revise blogs by yourself.\n",
        "                       \"\"\",\n",
        "    llm_config=llm_config,\n",
        "    description=\"\"\"This is an editor who reviews the blogs of writers and provides change ideas.\n",
        "                    The editor should be called every time when the writer provides a version of a blog post.\n",
        "\n",
        "                \"\"\"\n",
        ")\n",
        "\n",
        "groupchat = autogen.GroupChat(agents=[user_proxy, writer, editor], messages=[], max_round=6)\n",
        "manager = autogen.GroupChatManager(groupchat=groupchat, llm_config=llm_config)\n",
        "\n"
      ],
      "metadata": {
        "colab": {
          "base_uri": "https://localhost:8080/",
          "height": 121
        },
        "outputId": "c0ddb4ea-a60d-4b29-8147-d4416c41912b",
        "id": "MIZ_baCaFwmv"
      },
      "execution_count": 10,
      "outputs": [
        {
          "output_type": "display_data",
          "data": {
            "text/plain": [
              "<IPython.core.display.HTML object>"
            ],
            "text/html": [
              "\n",
              "  <style>\n",
              "    pre {\n",
              "        white-space: pre-wrap;\n",
              "    }\n",
              "  </style>\n",
              "  "
            ]
          },
          "metadata": {}
        },
        {
          "output_type": "stream",
          "name": "stdout",
          "text": [
            "[autogen.oai.client: 03-14 05:27:58] {417} INFO - Detected custom model client in config: CustomModelClient, model client can not be used until register_model_client is called.\n"
          ]
        },
        {
          "output_type": "stream",
          "name": "stderr",
          "text": [
            "INFO:autogen.oai.client:Detected custom model client in config: CustomModelClient, model client can not be used until register_model_client is called.\n"
          ]
        },
        {
          "output_type": "stream",
          "name": "stdout",
          "text": [
            "[autogen.oai.client: 03-14 05:27:58] {417} INFO - Detected custom model client in config: CustomModelClient, model client can not be used until register_model_client is called.\n"
          ]
        },
        {
          "output_type": "stream",
          "name": "stderr",
          "text": [
            "INFO:autogen.oai.client:Detected custom model client in config: CustomModelClient, model client can not be used until register_model_client is called.\n"
          ]
        },
        {
          "output_type": "stream",
          "name": "stdout",
          "text": [
            "[autogen.oai.client: 03-14 05:27:58] {417} INFO - Detected custom model client in config: CustomModelClient, model client can not be used until register_model_client is called.\n"
          ]
        },
        {
          "output_type": "stream",
          "name": "stderr",
          "text": [
            "INFO:autogen.oai.client:Detected custom model client in config: CustomModelClient, model client can not be used until register_model_client is called.\n"
          ]
        }
      ]
    },
    {
      "cell_type": "code",
      "source": [
        "writer.register_model_client(model_client_cls=CustomModelClient)\n",
        "editor.register_model_client(model_client_cls=CustomModelClient)\n",
        "manager.register_model_client(model_client_cls=CustomModelClient)"
      ],
      "metadata": {
        "colab": {
          "base_uri": "https://localhost:8080/",
          "height": 121
        },
        "id": "oYp-kHewHEYc",
        "outputId": "43120bdc-7799-4788-b3e9-699c6fb2f6df"
      },
      "execution_count": 11,
      "outputs": [
        {
          "output_type": "display_data",
          "data": {
            "text/plain": [
              "<IPython.core.display.HTML object>"
            ],
            "text/html": [
              "\n",
              "  <style>\n",
              "    pre {\n",
              "        white-space: pre-wrap;\n",
              "    }\n",
              "  </style>\n",
              "  "
            ]
          },
          "metadata": {}
        },
        {
          "output_type": "stream",
          "name": "stdout",
          "text": [
            "CustomModelClient config: {'model': 'google/gemma-7b-it', 'model_client_cls': 'CustomModelClient', 'device': 'cuda', 'n': 1, 'params': {'max_length': 1000}}\n",
            "Loaded model google/gemma-7b-it to cuda\n",
            "CustomModelClient config: {'model': 'google/gemma-7b-it', 'model_client_cls': 'CustomModelClient', 'device': 'cuda', 'n': 1, 'params': {'max_length': 1000}}\n",
            "Loaded model google/gemma-7b-it to cuda\n",
            "CustomModelClient config: {'model': 'google/gemma-7b-it', 'model_client_cls': 'CustomModelClient', 'device': 'cuda', 'n': 1, 'params': {'max_length': 1000}}\n",
            "Loaded model google/gemma-7b-it to cuda\n"
          ]
        }
      ]
    },
    {
      "cell_type": "code",
      "source": [
        "user_proxy.initiate_chat(\n",
        "    manager, message=\"\"\"Generate a 100-word blog post about traveling in Bohol Island.\n",
        "                      \"\"\"\n",
        ")"
      ],
      "metadata": {
        "id": "1QhFDs8dHNaK",
        "colab": {
          "base_uri": "https://localhost:8080/",
          "height": 1000
        },
        "outputId": "eee98854-6ea1-4f87-9ab5-f0d8c9b5e6fb"
      },
      "execution_count": 12,
      "outputs": [
        {
          "output_type": "display_data",
          "data": {
            "text/plain": [
              "<IPython.core.display.HTML object>"
            ],
            "text/html": [
              "\n",
              "  <style>\n",
              "    pre {\n",
              "        white-space: pre-wrap;\n",
              "    }\n",
              "  </style>\n",
              "  "
            ]
          },
          "metadata": {}
        },
        {
          "output_type": "stream",
          "name": "stdout",
          "text": [
            "User_proxy (to chat_manager):\n",
            "\n",
            "Generate a 100-word blog post about traveling in Bohol Island.\n",
            "                      \n",
            "\n",
            "--------------------------------------------------------------------------------\n",
            "Writer (to chat_manager):\n",
            "\n",
            "## Island Dreams: Exploring the Jewel of Bohol\n",
            "\n",
            "Bohol Island, a gem nestled in the heart of the Philippines, is a paradise teeming with natural beauty and cultural treasures. From the breathtaking Chocolate Hills to the serene Loboc River, Bohol offers a captivating experience for travelers of all ages.\n",
            "\n",
            "Upon arrival, you'll be greeted by the warm hospitality of the locals, known for their vibrant smiles and genuine warmth. Immerse yourself in the vibrant history of the island at the historic Alona Church, or marvel at the intricate architecture of the Baclayon Church.\n",
            "\n",
            "For a glimpse into the natural wonders of Bohol, head to the Chocolate Hills, a surreal landscape adorned with hundreds of cone-shaped hills. Take a boat ride down the Loboc River, surrounded by lush greenery and cascading waterfalls.\n",
            "\n",
            "Bohol is also a haven for wildlife enthusiasts. Encounter the adorable Philippine tarsier, the majestic eagle-eyed hawk, and a plethora of other fascinating creatures.\n",
            "\n",
            "Whether you're seeking adventure, relaxation, or cultural immersion, Bohol Island promises to be an unforgettable journey. So, pack your bags and prepare to be swept away by the magic of this island paradise.<eos>\n",
            "\n",
            "--------------------------------------------------------------------------------\n",
            "Writer (to chat_manager):\n",
            "\n",
            "## Island Dreams: Exploring the Jewel of Bohol\n",
            "\n",
            "Bohol Island, a gem nestled in the heart of the Philippines, is a paradise teeming with natural beauty and cultural treasures. From the breathtaking Chocolate Hills to the serene Loboc River, Bohol offers a captivating experience for travelers of all ages.\n",
            "\n",
            "Upon arrival, you'll be greeted by the warm hospitality of the locals, known for their vibrant smiles and genuine warmth. Immerse yourself in the vibrant history of the island at the historic Alona Church, or marvel at the intricate architecture of the Baclayon Church.\n",
            "\n",
            "For a glimpse into the natural wonders of Bohol, head to the Chocolate Hills, a surreal landscape adorned with hundreds of cone-shaped hills. Take a boat ride down the Loboc River, surrounded by lush greenery and cascading waterfalls.\n",
            "\n",
            "Bohol is also a haven for wildlife enthusiasts. Encounter the adorable Philippine tarsier, the majestic eagle-eyed hawk, and a plethora of other fascinating creatures.\n",
            "\n",
            "Whether you're seeking adventure, relaxation, or cultural immersion, Bohol Island promises to be an unforgettable journey. So, pack your bags and prepare to be swept away by the magic of this island paradise.<eos>\n",
            "\n",
            "--------------------------------------------------------------------------------\n",
            "Editor (to chat_manager):\n",
            "\n",
            "## Change Recommendations:\n",
            "\n",
            "**Add Hashtags:** #BoholIsland #ChocolateHills #LobocRiver #Philippines #IslandDreams #TravelBlogger #TravelInspiration #IslandParadise\n",
            "\n",
            "**Increase Visual Appeal:** Include captivating images and videos showcasing the beauty of Bohol Island.\n",
            "\n",
            "**Create a Readable and Engaging Introduction:** Begin with a strong hook that grabs the reader's attention and sets the tone for the article.\n",
            "\n",
            "**Structure and Organization:** Break up the text into smaller paragraphs to improve readability and flow.\n",
            "\n",
            "**Call to Action:** Conclude with a strong call to action that encourages readers to visit Bohol Island.<eos>\n",
            "\n",
            "--------------------------------------------------------------------------------\n",
            "Writer (to chat_manager):\n",
            "\n",
            "## Island Dreams: Exploring the Enchanted Island of Bohol\n",
            "\n",
            "Bohol Island, a jewel nestled in the heart of the Philippines, is a paradise teeming with natural beauty and cultural treasures. From the iconic Chocolate Hills to the serene Loboc River, Bohol offers a captivating escape for travelers seeking adventure and tranquility.\n",
            "\n",
            "The Chocolate Hills, a geological wonder, paint a vibrant landscape with their unique chocolate-brown hue. These towering mounds are a must-see for any visitor, offering breathtaking views from the top.\n",
            "\n",
            "Loboc River, adorned with lush greenery and adorned with floating restaurants, is a scenic gem. Take a leisurely boat ride along the river, soaking in the serene atmosphere and indulging in local delicacies.\n",
            "\n",
            "Bohol is also home to a vibrant cultural heritage. Explore the historic city of Cebu, delve into the fascinating history of the Tarsier, and immerse yourself in the warm hospitality of the Boholano people.\n",
            "\n",
            "Whether you're seeking adventure, relaxation, or cultural immersion, Bohol Island has something for everyone. Come visit this enchanting island and experience the magic that awaits you.<eos>\n",
            "\n",
            "--------------------------------------------------------------------------------\n",
            "Editor (to chat_manager):\n",
            "\n",
            "## Island Dreams: Exploring the Enchanted Island of Bohol\n",
            "\n",
            "Bohol Island, a jewel nestled in the heart of the Philippines, is a paradise teeming with natural beauty and cultural treasures. From the iconic Chocolate Hills to the serene Loboc River, Bohol offers a captivating escape for travelers seeking adventure and tranquility.\n",
            "\n",
            "**Chocolate Hills:**\n",
            "A geological wonder, the Chocolate Hills paint a vibrant landscape with their unique chocolate-brown hue.\n",
            "\n",
            "**Loboc River:**\n",
            "Adorned with lush greenery and floating restaurants, Loboc River offers a scenic boat ride through the serene landscape.\n",
            "\n",
            "**Cultural Heritage:**\n",
            "Explore the historic city of Cebu, delve into the fascinating history of the Tarsier, and immerse yourself in the warm hospitality of the Boholano people.\n",
            "\n",
            "Whether you're seeking adventure, relaxation, or cultural immersion, Bohol Island has something for everyone. Come visit this enchanting island and experience the magic that awaits you.<eos>\n",
            "\n",
            "--------------------------------------------------------------------------------\n"
          ]
        },
        {
          "output_type": "execute_result",
          "data": {
            "text/plain": [
              "ChatResult(chat_id=None, chat_history=[{'content': 'Generate a 100-word blog post about traveling in Bohol Island.\\n                      ', 'role': 'assistant'}, {'content': \"## Island Dreams: Exploring the Jewel of Bohol\\n\\nBohol Island, a gem nestled in the heart of the Philippines, is a paradise teeming with natural beauty and cultural treasures. From the breathtaking Chocolate Hills to the serene Loboc River, Bohol offers a captivating experience for travelers of all ages.\\n\\nUpon arrival, you'll be greeted by the warm hospitality of the locals, known for their vibrant smiles and genuine warmth. Immerse yourself in the vibrant history of the island at the historic Alona Church, or marvel at the intricate architecture of the Baclayon Church.\\n\\nFor a glimpse into the natural wonders of Bohol, head to the Chocolate Hills, a surreal landscape adorned with hundreds of cone-shaped hills. Take a boat ride down the Loboc River, surrounded by lush greenery and cascading waterfalls.\\n\\nBohol is also a haven for wildlife enthusiasts. Encounter the adorable Philippine tarsier, the majestic eagle-eyed hawk, and a plethora of other fascinating creatures.\\n\\nWhether you're seeking adventure, relaxation, or cultural immersion, Bohol Island promises to be an unforgettable journey. So, pack your bags and prepare to be swept away by the magic of this island paradise.<eos>\", 'name': 'Writer', 'role': 'user'}, {'content': \"## Island Dreams: Exploring the Jewel of Bohol\\n\\nBohol Island, a gem nestled in the heart of the Philippines, is a paradise teeming with natural beauty and cultural treasures. From the breathtaking Chocolate Hills to the serene Loboc River, Bohol offers a captivating experience for travelers of all ages.\\n\\nUpon arrival, you'll be greeted by the warm hospitality of the locals, known for their vibrant smiles and genuine warmth. Immerse yourself in the vibrant history of the island at the historic Alona Church, or marvel at the intricate architecture of the Baclayon Church.\\n\\nFor a glimpse into the natural wonders of Bohol, head to the Chocolate Hills, a surreal landscape adorned with hundreds of cone-shaped hills. Take a boat ride down the Loboc River, surrounded by lush greenery and cascading waterfalls.\\n\\nBohol is also a haven for wildlife enthusiasts. Encounter the adorable Philippine tarsier, the majestic eagle-eyed hawk, and a plethora of other fascinating creatures.\\n\\nWhether you're seeking adventure, relaxation, or cultural immersion, Bohol Island promises to be an unforgettable journey. So, pack your bags and prepare to be swept away by the magic of this island paradise.<eos>\", 'name': 'Writer', 'role': 'user'}, {'content': \"## Change Recommendations:\\n\\n**Add Hashtags:** #BoholIsland #ChocolateHills #LobocRiver #Philippines #IslandDreams #TravelBlogger #TravelInspiration #IslandParadise\\n\\n**Increase Visual Appeal:** Include captivating images and videos showcasing the beauty of Bohol Island.\\n\\n**Create a Readable and Engaging Introduction:** Begin with a strong hook that grabs the reader's attention and sets the tone for the article.\\n\\n**Structure and Organization:** Break up the text into smaller paragraphs to improve readability and flow.\\n\\n**Call to Action:** Conclude with a strong call to action that encourages readers to visit Bohol Island.<eos>\", 'name': 'Editor', 'role': 'user'}, {'content': \"## Island Dreams: Exploring the Enchanted Island of Bohol\\n\\nBohol Island, a jewel nestled in the heart of the Philippines, is a paradise teeming with natural beauty and cultural treasures. From the iconic Chocolate Hills to the serene Loboc River, Bohol offers a captivating escape for travelers seeking adventure and tranquility.\\n\\nThe Chocolate Hills, a geological wonder, paint a vibrant landscape with their unique chocolate-brown hue. These towering mounds are a must-see for any visitor, offering breathtaking views from the top.\\n\\nLoboc River, adorned with lush greenery and adorned with floating restaurants, is a scenic gem. Take a leisurely boat ride along the river, soaking in the serene atmosphere and indulging in local delicacies.\\n\\nBohol is also home to a vibrant cultural heritage. Explore the historic city of Cebu, delve into the fascinating history of the Tarsier, and immerse yourself in the warm hospitality of the Boholano people.\\n\\nWhether you're seeking adventure, relaxation, or cultural immersion, Bohol Island has something for everyone. Come visit this enchanting island and experience the magic that awaits you.<eos>\", 'name': 'Writer', 'role': 'user'}, {'content': \"## Island Dreams: Exploring the Enchanted Island of Bohol\\n\\nBohol Island, a jewel nestled in the heart of the Philippines, is a paradise teeming with natural beauty and cultural treasures. From the iconic Chocolate Hills to the serene Loboc River, Bohol offers a captivating escape for travelers seeking adventure and tranquility.\\n\\n**Chocolate Hills:**\\nA geological wonder, the Chocolate Hills paint a vibrant landscape with their unique chocolate-brown hue.\\n\\n**Loboc River:**\\nAdorned with lush greenery and floating restaurants, Loboc River offers a scenic boat ride through the serene landscape.\\n\\n**Cultural Heritage:**\\nExplore the historic city of Cebu, delve into the fascinating history of the Tarsier, and immerse yourself in the warm hospitality of the Boholano people.\\n\\nWhether you're seeking adventure, relaxation, or cultural immersion, Bohol Island has something for everyone. Come visit this enchanting island and experience the magic that awaits you.<eos>\", 'name': 'Editor', 'role': 'user'}], summary=\"## Island Dreams: Exploring the Enchanted Island of Bohol\\n\\nBohol Island, a jewel nestled in the heart of the Philippines, is a paradise teeming with natural beauty and cultural treasures. From the iconic Chocolate Hills to the serene Loboc River, Bohol offers a captivating escape for travelers seeking adventure and tranquility.\\n\\n**Chocolate Hills:**\\nA geological wonder, the Chocolate Hills paint a vibrant landscape with their unique chocolate-brown hue.\\n\\n**Loboc River:**\\nAdorned with lush greenery and floating restaurants, Loboc River offers a scenic boat ride through the serene landscape.\\n\\n**Cultural Heritage:**\\nExplore the historic city of Cebu, delve into the fascinating history of the Tarsier, and immerse yourself in the warm hospitality of the Boholano people.\\n\\nWhether you're seeking adventure, relaxation, or cultural immersion, Bohol Island has something for everyone. Come visit this enchanting island and experience the magic that awaits you.<eos>\", cost=({'total_cost': 0}, {'total_cost': 0}), human_input=[])"
            ]
          },
          "metadata": {},
          "execution_count": 12
        }
      ]
    },
    {
      "cell_type": "code",
      "source": [
        "!nvidia-smi"
      ],
      "metadata": {
        "colab": {
          "base_uri": "https://localhost:8080/",
          "height": 347
        },
        "id": "v-3_cYkEaqg7",
        "outputId": "ded97461-f32f-4166-e73f-0e4091feac40"
      },
      "execution_count": 13,
      "outputs": [
        {
          "output_type": "display_data",
          "data": {
            "text/plain": [
              "<IPython.core.display.HTML object>"
            ],
            "text/html": [
              "\n",
              "  <style>\n",
              "    pre {\n",
              "        white-space: pre-wrap;\n",
              "    }\n",
              "  </style>\n",
              "  "
            ]
          },
          "metadata": {}
        },
        {
          "output_type": "stream",
          "name": "stdout",
          "text": [
            "Thu Mar 14 05:28:34 2024       \n",
            "+---------------------------------------------------------------------------------------+\n",
            "| NVIDIA-SMI 535.104.05             Driver Version: 535.104.05   CUDA Version: 12.2     |\n",
            "|-----------------------------------------+----------------------+----------------------+\n",
            "| GPU  Name                 Persistence-M | Bus-Id        Disp.A | Volatile Uncorr. ECC |\n",
            "| Fan  Temp   Perf          Pwr:Usage/Cap |         Memory-Usage | GPU-Util  Compute M. |\n",
            "|                                         |                      |               MIG M. |\n",
            "|=========================================+======================+======================|\n",
            "|   0  Tesla T4                       Off | 00000000:00:04.0 Off |                    0 |\n",
            "| N/A   59C    P0              72W /  70W |   8293MiB / 15360MiB |     71%      Default |\n",
            "|                                         |                      |                  N/A |\n",
            "+-----------------------------------------+----------------------+----------------------+\n",
            "                                                                                         \n",
            "+---------------------------------------------------------------------------------------+\n",
            "| Processes:                                                                            |\n",
            "|  GPU   GI   CI        PID   Type   Process name                            GPU Memory |\n",
            "|        ID   ID                                                             Usage      |\n",
            "|=======================================================================================|\n",
            "+---------------------------------------------------------------------------------------+\n"
          ]
        }
      ]
    }
  ]
}